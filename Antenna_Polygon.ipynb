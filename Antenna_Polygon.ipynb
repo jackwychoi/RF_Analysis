{
 "cells": [
  {
   "cell_type": "code",
   "execution_count": 1,
   "id": "8e17cffa-f9b6-4fb5-9a50-51c079e38be5",
   "metadata": {},
   "outputs": [],
   "source": [
    "import pandas as pd\n",
    "import numpy as np\n",
    "import geopandas as gpd\n",
    "import geopy\n",
    "from geopy import Point\n",
    "from geopy.distance import geodesic\n",
    "from shapely.geometry import Polygon\n",
    "import fiona\n",
    "import time\n",
    "import warnings\n",
    "warnings.filterwarnings('ignore')"
   ]
  },
  {
   "cell_type": "code",
   "execution_count": 2,
   "id": "e1c80638-c996-4ead-8b04-1cac78522aea",
   "metadata": {},
   "outputs": [],
   "source": [
    "pd.set_option('display.max_rows', None)\n",
    "pd.set_option('display.max_columns', None)\n",
    "pd.set_option('display.max_seq_items', None)"
   ]
  },
  {
   "cell_type": "code",
   "execution_count": 3,
   "id": "35839062-3374-4c55-816b-bdb9abca6378",
   "metadata": {},
   "outputs": [],
   "source": [
    "df = pd.read_csv('data/gmonpro_20221207_090716_Sim1_44011.csv', header=None)"
   ]
  },
  {
   "cell_type": "code",
   "execution_count": 4,
   "id": "5497cd1a-6009-40de-a353-7729799f00f3",
   "metadata": {},
   "outputs": [
    {
     "data": {
      "text/html": [
       "<div><div id=951d9281-beb5-4233-8f21-2f474405d7fa style=\"display:none; background-color:#9D6CFF; color:white; width:200px; height:30px; padding-left:5px; border-radius:4px; flex-direction:row; justify-content:space-around; align-items:center;\" onmouseover=\"this.style.backgroundColor='#BA9BF8'\" onmouseout=\"this.style.backgroundColor='#9D6CFF'\" onclick=\"window.commands?.execute('create-mitosheet-from-dataframe-output');\">See Full Dataframe in Mito</div> <script> if (window.commands?.hasCommand('create-mitosheet-from-dataframe-output')) document.getElementById('951d9281-beb5-4233-8f21-2f474405d7fa').style.display = 'flex' </script> <table border=\"1\" class=\"dataframe\">\n",
       "  <thead>\n",
       "    <tr style=\"text-align: right;\">\n",
       "      <th></th>\n",
       "      <th>0</th>\n",
       "    </tr>\n",
       "  </thead>\n",
       "  <tbody>\n",
       "    <tr>\n",
       "      <th>0</th>\n",
       "      <td>PLMN;SYSTEM;XCI;xNBID;LOCAL_CID;LAC/TAC;PCI/PSC/BSIC;ARFCN;BAND;RSSI;RSRP/RSCP;RSRQ/ECIO;SNR;CQI;TA;DISTANCE;DELTA_AZI;LAT;LON;SPEED;GPS_ACCURACY;UL;DL;BANDWIDTH;BANDWIDTHS;CA;NR_STATE;NARFCN;NR_BAND;NR_PCI;NR_SS_RSRP;NR_SS_RSRQ;NR_SS_SINR;NR_CSI_RSRP;NR_CSI_RSRQ;NR_CSI_SINR;CLF_LABEL;CLF_LOC;CLF_DESC;DATE;TIME;ROAMING</td>\n",
       "    </tr>\n",
       "    <tr>\n",
       "      <th>1</th>\n",
       "      <td>44011;4;71726856;280183;8;211;251;1575;1800 B3;-65;-92;-6;1.0;;;;;35.698181;139.773952;0;25;22;120;5000;5;1;none;;;;;;;;;;--;--;Cell not found in the clf database!;2022/12/07;09:07:16;HOME</td>\n",
       "    </tr>\n",
       "    <tr>\n",
       "      <th>2</th>\n",
       "      <td>44011;4;71726856;280183;8;211;251;1575;1800 B3;-65;-92;-6;1.0;;56;;;35.698181;139.773952;0;25;11;9;5000;5;1;none;;;;;;;;;;--;--;Cell not found in the clf database!;2022/12/07;09:07:17;HOME</td>\n",
       "    </tr>\n",
       "  </tbody>\n",
       "</table></div>"
      ],
      "text/plain": [
       "                                                   0\n",
       "0  PLMN;SYSTEM;XCI;xNBID;LOCAL_CID;LAC/TAC;PCI/PS...\n",
       "1  44011;4;71726856;280183;8;211;251;1575;1800 B3...\n",
       "2  44011;4;71726856;280183;8;211;251;1575;1800 B3..."
      ]
     },
     "execution_count": 4,
     "metadata": {},
     "output_type": "execute_result"
    }
   ],
   "source": [
    "df.head(3)"
   ]
  },
  {
   "cell_type": "code",
   "execution_count": 5,
   "id": "ee543253-0bbc-4d6e-a3e3-8fd339bb60cb",
   "metadata": {},
   "outputs": [],
   "source": [
    "df = df[0].str.split(';', expand=True)\n",
    "df.columns = df.iloc[0]\n",
    "df.drop(0, inplace=True)\n",
    "df.reset_index(drop=True, inplace=True)\n",
    "df.rename(columns={'PCI/PSC/BSIC':'PCI', 'RSRP/RSCP':'RSRP', 'RSRQ/ECIO':'RSRQ', 'SNR':'SINR', 'LAT':'LAT_org', 'LON':'LON_org', 'TIME':'TIME_org'}, inplace=True)\n",
    "df.insert(0, 'LON', df['LON_org'])\n",
    "df.insert(0, 'LAT', df['LAT_org'])\n",
    "df.insert(0, 'TIME', df['TIME_org'])\n",
    "df.drop(['LON_org', 'LAT_org', 'TIME_org'], axis=1, inplace=True)"
   ]
  },
  {
   "cell_type": "code",
   "execution_count": 6,
   "id": "55265549-2400-40f7-93ed-b88fce90336c",
   "metadata": {},
   "outputs": [
    {
     "data": {
      "text/plain": [
       "21"
      ]
     },
     "execution_count": 6,
     "metadata": {},
     "output_type": "execute_result"
    }
   ],
   "source": [
    "df['PCI'].nunique()"
   ]
  },
  {
   "cell_type": "code",
   "execution_count": 7,
   "id": "58eec421-e609-4165-b11e-88d98165c2b8",
   "metadata": {},
   "outputs": [],
   "source": [
    "df.drop_duplicates('PCI', inplace=True)\n",
    "df.reset_index(drop=True, inplace=True)"
   ]
  },
  {
   "cell_type": "code",
   "execution_count": 8,
   "id": "fb5f8dfc-4023-432a-9a57-a2f73bda25d3",
   "metadata": {},
   "outputs": [
    {
     "data": {
      "text/plain": [
       "21"
      ]
     },
     "execution_count": 8,
     "metadata": {},
     "output_type": "execute_result"
    }
   ],
   "source": [
    "df['PCI'].nunique()"
   ]
  },
  {
   "cell_type": "code",
   "execution_count": 9,
   "id": "adfe7fda-ddae-417c-ab7f-7d455e82c087",
   "metadata": {},
   "outputs": [
    {
     "data": {
      "text/html": [
       "<div><div id=93554b57-d9c6-4229-baac-e9fdfe482cab style=\"display:none; background-color:#9D6CFF; color:white; width:200px; height:30px; padding-left:5px; border-radius:4px; flex-direction:row; justify-content:space-around; align-items:center;\" onmouseover=\"this.style.backgroundColor='#BA9BF8'\" onmouseout=\"this.style.backgroundColor='#9D6CFF'\" onclick=\"window.commands?.execute('create-mitosheet-from-dataframe-output');\">See Full Dataframe in Mito</div> <script> if (window.commands?.hasCommand('create-mitosheet-from-dataframe-output')) document.getElementById('93554b57-d9c6-4229-baac-e9fdfe482cab').style.display = 'flex' </script> <table border=\"1\" class=\"dataframe\">\n",
       "  <thead>\n",
       "    <tr style=\"text-align: right;\">\n",
       "      <th></th>\n",
       "      <th>TIME</th>\n",
       "      <th>LAT</th>\n",
       "      <th>LON</th>\n",
       "      <th>PLMN</th>\n",
       "      <th>SYSTEM</th>\n",
       "      <th>XCI</th>\n",
       "      <th>xNBID</th>\n",
       "      <th>LOCAL_CID</th>\n",
       "      <th>LAC/TAC</th>\n",
       "      <th>PCI</th>\n",
       "      <th>ARFCN</th>\n",
       "      <th>BAND</th>\n",
       "      <th>RSSI</th>\n",
       "      <th>RSRP</th>\n",
       "      <th>RSRQ</th>\n",
       "      <th>SINR</th>\n",
       "      <th>CQI</th>\n",
       "      <th>TA</th>\n",
       "      <th>DISTANCE</th>\n",
       "      <th>DELTA_AZI</th>\n",
       "      <th>SPEED</th>\n",
       "      <th>GPS_ACCURACY</th>\n",
       "      <th>UL</th>\n",
       "      <th>DL</th>\n",
       "      <th>BANDWIDTH</th>\n",
       "      <th>BANDWIDTHS</th>\n",
       "      <th>CA</th>\n",
       "      <th>NR_STATE</th>\n",
       "      <th>NARFCN</th>\n",
       "      <th>NR_BAND</th>\n",
       "      <th>NR_PCI</th>\n",
       "      <th>NR_SS_RSRP</th>\n",
       "      <th>NR_SS_RSRQ</th>\n",
       "      <th>NR_SS_SINR</th>\n",
       "      <th>NR_CSI_RSRP</th>\n",
       "      <th>NR_CSI_RSRQ</th>\n",
       "      <th>NR_CSI_SINR</th>\n",
       "      <th>CLF_LABEL</th>\n",
       "      <th>CLF_LOC</th>\n",
       "      <th>CLF_DESC</th>\n",
       "      <th>DATE</th>\n",
       "      <th>ROAMING</th>\n",
       "    </tr>\n",
       "  </thead>\n",
       "  <tbody>\n",
       "    <tr>\n",
       "      <th>0</th>\n",
       "      <td>09:07:16</td>\n",
       "      <td>35.698181</td>\n",
       "      <td>139.773952</td>\n",
       "      <td>44011</td>\n",
       "      <td>4</td>\n",
       "      <td>71726856</td>\n",
       "      <td>280183</td>\n",
       "      <td>8</td>\n",
       "      <td>211</td>\n",
       "      <td>251</td>\n",
       "      <td>1575</td>\n",
       "      <td>1800 B3</td>\n",
       "      <td>-65</td>\n",
       "      <td>-92</td>\n",
       "      <td>-6</td>\n",
       "      <td>1.0</td>\n",
       "      <td></td>\n",
       "      <td></td>\n",
       "      <td></td>\n",
       "      <td></td>\n",
       "      <td>0</td>\n",
       "      <td>25</td>\n",
       "      <td>22</td>\n",
       "      <td>120</td>\n",
       "      <td>5000</td>\n",
       "      <td>5</td>\n",
       "      <td>1</td>\n",
       "      <td>none</td>\n",
       "      <td></td>\n",
       "      <td></td>\n",
       "      <td></td>\n",
       "      <td></td>\n",
       "      <td></td>\n",
       "      <td></td>\n",
       "      <td></td>\n",
       "      <td></td>\n",
       "      <td></td>\n",
       "      <td>--</td>\n",
       "      <td>--</td>\n",
       "      <td>Cell not found in the clf database!</td>\n",
       "      <td>2022/12/07</td>\n",
       "      <td>HOME</td>\n",
       "    </tr>\n",
       "    <tr>\n",
       "      <th>1</th>\n",
       "      <td>09:07:38</td>\n",
       "      <td>35.698235</td>\n",
       "      <td>139.773568</td>\n",
       "      <td>44011</td>\n",
       "      <td>4</td>\n",
       "      <td>71726855</td>\n",
       "      <td>280183</td>\n",
       "      <td>7</td>\n",
       "      <td>211</td>\n",
       "      <td>15</td>\n",
       "      <td>1575</td>\n",
       "      <td>1800 B3</td>\n",
       "      <td>-77</td>\n",
       "      <td>-100</td>\n",
       "      <td>-13</td>\n",
       "      <td>0.8</td>\n",
       "      <td></td>\n",
       "      <td></td>\n",
       "      <td></td>\n",
       "      <td></td>\n",
       "      <td>10</td>\n",
       "      <td>63</td>\n",
       "      <td>0</td>\n",
       "      <td>0</td>\n",
       "      <td>5000</td>\n",
       "      <td>5</td>\n",
       "      <td>1</td>\n",
       "      <td>none</td>\n",
       "      <td></td>\n",
       "      <td></td>\n",
       "      <td></td>\n",
       "      <td></td>\n",
       "      <td></td>\n",
       "      <td></td>\n",
       "      <td></td>\n",
       "      <td></td>\n",
       "      <td></td>\n",
       "      <td>--</td>\n",
       "      <td>--</td>\n",
       "      <td>Cell not found in the clf database!</td>\n",
       "      <td>2022/12/07</td>\n",
       "      <td>HOME</td>\n",
       "    </tr>\n",
       "    <tr>\n",
       "      <th>2</th>\n",
       "      <td>09:07:48</td>\n",
       "      <td>35.698445</td>\n",
       "      <td>139.772364</td>\n",
       "      <td>44011</td>\n",
       "      <td>4</td>\n",
       "      <td>71434506</td>\n",
       "      <td>279041</td>\n",
       "      <td>10</td>\n",
       "      <td>211</td>\n",
       "      <td>123</td>\n",
       "      <td>1500</td>\n",
       "      <td>1800 B3</td>\n",
       "      <td>-63</td>\n",
       "      <td>-87</td>\n",
       "      <td>-12</td>\n",
       "      <td>-0.3</td>\n",
       "      <td></td>\n",
       "      <td></td>\n",
       "      <td></td>\n",
       "      <td></td>\n",
       "      <td>27</td>\n",
       "      <td>27</td>\n",
       "      <td>5</td>\n",
       "      <td>4</td>\n",
       "      <td>20000</td>\n",
       "      <td>20</td>\n",
       "      <td>1</td>\n",
       "      <td>none</td>\n",
       "      <td></td>\n",
       "      <td></td>\n",
       "      <td></td>\n",
       "      <td></td>\n",
       "      <td></td>\n",
       "      <td></td>\n",
       "      <td></td>\n",
       "      <td></td>\n",
       "      <td></td>\n",
       "      <td>--</td>\n",
       "      <td>--</td>\n",
       "      <td>Cell not found in the clf database!</td>\n",
       "      <td>2022/12/07</td>\n",
       "      <td>HOME</td>\n",
       "    </tr>\n",
       "  </tbody>\n",
       "</table></div>"
      ],
      "text/plain": [
       "0      TIME        LAT         LON   PLMN SYSTEM       XCI   xNBID LOCAL_CID  \\\n",
       "0  09:07:16  35.698181  139.773952  44011      4  71726856  280183         8   \n",
       "1  09:07:38  35.698235  139.773568  44011      4  71726855  280183         7   \n",
       "2  09:07:48  35.698445  139.772364  44011      4  71434506  279041        10   \n",
       "\n",
       "0 LAC/TAC  PCI ARFCN     BAND RSSI  RSRP RSRQ  SINR CQI TA DISTANCE DELTA_AZI  \\\n",
       "0     211  251  1575  1800 B3  -65   -92   -6   1.0                             \n",
       "1     211   15  1575  1800 B3  -77  -100  -13   0.8                             \n",
       "2     211  123  1500  1800 B3  -63   -87  -12  -0.3                             \n",
       "\n",
       "0 SPEED GPS_ACCURACY  UL   DL BANDWIDTH BANDWIDTHS CA NR_STATE NARFCN NR_BAND  \\\n",
       "0     0           25  22  120      5000          5  1     none                  \n",
       "1    10           63   0    0      5000          5  1     none                  \n",
       "2    27           27   5    4     20000         20  1     none                  \n",
       "\n",
       "0 NR_PCI NR_SS_RSRP NR_SS_RSRQ NR_SS_SINR NR_CSI_RSRP NR_CSI_RSRQ NR_CSI_SINR  \\\n",
       "0                                                                               \n",
       "1                                                                               \n",
       "2                                                                               \n",
       "\n",
       "0 CLF_LABEL CLF_LOC                             CLF_DESC        DATE ROAMING  \n",
       "0        --      --  Cell not found in the clf database!  2022/12/07    HOME  \n",
       "1        --      --  Cell not found in the clf database!  2022/12/07    HOME  \n",
       "2        --      --  Cell not found in the clf database!  2022/12/07    HOME  "
      ]
     },
     "execution_count": 9,
     "metadata": {},
     "output_type": "execute_result"
    }
   ],
   "source": [
    "df.head(3)"
   ]
  },
  {
   "cell_type": "code",
   "execution_count": 10,
   "id": "0388bd9f-e337-4e67-9186-91873284f3dc",
   "metadata": {},
   "outputs": [],
   "source": [
    "df['AZIMUTH'] = np.random.randint(0, 36, size=21)*10"
   ]
  },
  {
   "cell_type": "code",
   "execution_count": 11,
   "id": "09005334-f0ae-4c14-9d76-2e22781bba5d",
   "metadata": {},
   "outputs": [
    {
     "data": {
      "text/plain": [
       "Index(['TIME', 'LAT', 'LON', 'PLMN', 'SYSTEM', 'XCI', 'xNBID', 'LOCAL_CID',\n",
       "       'LAC/TAC', 'PCI', 'ARFCN', 'BAND', 'RSSI', 'RSRP', 'RSRQ', 'SINR',\n",
       "       'CQI', 'TA', 'DISTANCE', 'DELTA_AZI', 'SPEED', 'GPS_ACCURACY', 'UL',\n",
       "       'DL', 'BANDWIDTH', 'BANDWIDTHS', 'CA', 'NR_STATE', 'NARFCN', 'NR_BAND',\n",
       "       'NR_PCI', 'NR_SS_RSRP', 'NR_SS_RSRQ', 'NR_SS_SINR', 'NR_CSI_RSRP',\n",
       "       'NR_CSI_RSRQ', 'NR_CSI_SINR', 'CLF_LABEL', 'CLF_LOC', 'CLF_DESC',\n",
       "       'DATE', 'ROAMING', 'AZIMUTH'],\n",
       "      dtype='object', name=0)"
      ]
     },
     "execution_count": 11,
     "metadata": {},
     "output_type": "execute_result"
    }
   ],
   "source": [
    "df.columns"
   ]
  },
  {
   "cell_type": "code",
   "execution_count": 12,
   "id": "8721fa0e-ceda-43dc-b318-73673cfb75d9",
   "metadata": {},
   "outputs": [],
   "source": [
    "df = df[['LAT', 'LON', 'AZIMUTH', 'XCI', 'xNBID', 'LOCAL_CID', 'LAC/TAC', 'PCI', 'ARFCN', 'BAND', 'BANDWIDTH']]"
   ]
  },
  {
   "cell_type": "code",
   "execution_count": 13,
   "id": "031543c1-ffef-4cfe-82d6-39f91065bb6b",
   "metadata": {},
   "outputs": [],
   "source": [
    "df[['LAT', 'LON']] = df[['LAT', 'LON']].astype(np.float64)"
   ]
  },
  {
   "cell_type": "code",
   "execution_count": 14,
   "id": "762be094-76bc-4e0a-833d-6d05e44a587d",
   "metadata": {},
   "outputs": [
    {
     "data": {
      "text/html": [
       "<div><div id=24c45f3f-6571-46e4-a3d6-81ac3c7eb5cb style=\"display:none; background-color:#9D6CFF; color:white; width:200px; height:30px; padding-left:5px; border-radius:4px; flex-direction:row; justify-content:space-around; align-items:center;\" onmouseover=\"this.style.backgroundColor='#BA9BF8'\" onmouseout=\"this.style.backgroundColor='#9D6CFF'\" onclick=\"window.commands?.execute('create-mitosheet-from-dataframe-output');\">See Full Dataframe in Mito</div> <script> if (window.commands?.hasCommand('create-mitosheet-from-dataframe-output')) document.getElementById('24c45f3f-6571-46e4-a3d6-81ac3c7eb5cb').style.display = 'flex' </script> <table border=\"1\" class=\"dataframe\">\n",
       "  <thead>\n",
       "    <tr style=\"text-align: right;\">\n",
       "      <th></th>\n",
       "      <th>LAT</th>\n",
       "      <th>LON</th>\n",
       "      <th>AZIMUTH</th>\n",
       "      <th>XCI</th>\n",
       "      <th>xNBID</th>\n",
       "      <th>LOCAL_CID</th>\n",
       "      <th>LAC/TAC</th>\n",
       "      <th>PCI</th>\n",
       "      <th>ARFCN</th>\n",
       "      <th>BAND</th>\n",
       "      <th>BANDWIDTH</th>\n",
       "    </tr>\n",
       "  </thead>\n",
       "  <tbody>\n",
       "    <tr>\n",
       "      <th>0</th>\n",
       "      <td>35.698181</td>\n",
       "      <td>139.773952</td>\n",
       "      <td>80</td>\n",
       "      <td>71726856</td>\n",
       "      <td>280183</td>\n",
       "      <td>8</td>\n",
       "      <td>211</td>\n",
       "      <td>251</td>\n",
       "      <td>1575</td>\n",
       "      <td>1800 B3</td>\n",
       "      <td>5000</td>\n",
       "    </tr>\n",
       "    <tr>\n",
       "      <th>1</th>\n",
       "      <td>35.698235</td>\n",
       "      <td>139.773568</td>\n",
       "      <td>70</td>\n",
       "      <td>71726855</td>\n",
       "      <td>280183</td>\n",
       "      <td>7</td>\n",
       "      <td>211</td>\n",
       "      <td>15</td>\n",
       "      <td>1575</td>\n",
       "      <td>1800 B3</td>\n",
       "      <td>5000</td>\n",
       "    </tr>\n",
       "    <tr>\n",
       "      <th>2</th>\n",
       "      <td>35.698445</td>\n",
       "      <td>139.772364</td>\n",
       "      <td>50</td>\n",
       "      <td>71434506</td>\n",
       "      <td>279041</td>\n",
       "      <td>10</td>\n",
       "      <td>211</td>\n",
       "      <td>123</td>\n",
       "      <td>1500</td>\n",
       "      <td>1800 B3</td>\n",
       "      <td>20000</td>\n",
       "    </tr>\n",
       "    <tr>\n",
       "      <th>3</th>\n",
       "      <td>35.698445</td>\n",
       "      <td>139.772364</td>\n",
       "      <td>270</td>\n",
       "      <td>71434507</td>\n",
       "      <td>279041</td>\n",
       "      <td>11</td>\n",
       "      <td>211</td>\n",
       "      <td>95</td>\n",
       "      <td>1500</td>\n",
       "      <td>1800 B3</td>\n",
       "      <td>20000</td>\n",
       "    </tr>\n",
       "    <tr>\n",
       "      <th>4</th>\n",
       "      <td>35.698210</td>\n",
       "      <td>139.768710</td>\n",
       "      <td>230</td>\n",
       "      <td>71403531</td>\n",
       "      <td>278920</td>\n",
       "      <td>11</td>\n",
       "      <td>211</td>\n",
       "      <td>365</td>\n",
       "      <td>1500</td>\n",
       "      <td>1800 B3</td>\n",
       "      <td>20000</td>\n",
       "    </tr>\n",
       "  </tbody>\n",
       "</table></div>"
      ],
      "text/plain": [
       "0        LAT         LON  AZIMUTH       XCI   xNBID LOCAL_CID LAC/TAC  PCI  \\\n",
       "0  35.698181  139.773952       80  71726856  280183         8     211  251   \n",
       "1  35.698235  139.773568       70  71726855  280183         7     211   15   \n",
       "2  35.698445  139.772364       50  71434506  279041        10     211  123   \n",
       "3  35.698445  139.772364      270  71434507  279041        11     211   95   \n",
       "4  35.698210  139.768710      230  71403531  278920        11     211  365   \n",
       "\n",
       "0 ARFCN     BAND BANDWIDTH  \n",
       "0  1575  1800 B3      5000  \n",
       "1  1575  1800 B3      5000  \n",
       "2  1500  1800 B3     20000  \n",
       "3  1500  1800 B3     20000  \n",
       "4  1500  1800 B3     20000  "
      ]
     },
     "execution_count": 14,
     "metadata": {},
     "output_type": "execute_result"
    }
   ],
   "source": [
    "df.head()"
   ]
  },
  {
   "cell_type": "code",
   "execution_count": 15,
   "id": "a8104023-7a60-45dc-a298-ca439c225056",
   "metadata": {},
   "outputs": [],
   "source": [
    "for i, lat, lon, azi in zip(df.index, df['LAT'], df['LON'], df['AZIMUTH']):\n",
    "    df.loc[i, 'A Point'] = geodesic(meters=1000/np.cos(np.radians(30))).destination(Point(lat, lon), azi+30).format_decimal()\n",
    "    df.loc[i, 'B Point'] = geodesic(meters=1000/np.cos(np.radians(30))).destination(Point(lat, lon), azi-30).format_decimal()"
   ]
  },
  {
   "cell_type": "code",
   "execution_count": 16,
   "id": "be5ef939-c590-475f-9c4b-03e9781c151d",
   "metadata": {},
   "outputs": [
    {
     "data": {
      "text/html": [
       "<div><div id=93959859-3f6d-4360-9a34-55290446c919 style=\"display:none; background-color:#9D6CFF; color:white; width:200px; height:30px; padding-left:5px; border-radius:4px; flex-direction:row; justify-content:space-around; align-items:center;\" onmouseover=\"this.style.backgroundColor='#BA9BF8'\" onmouseout=\"this.style.backgroundColor='#9D6CFF'\" onclick=\"window.commands?.execute('create-mitosheet-from-dataframe-output');\">See Full Dataframe in Mito</div> <script> if (window.commands?.hasCommand('create-mitosheet-from-dataframe-output')) document.getElementById('93959859-3f6d-4360-9a34-55290446c919').style.display = 'flex' </script> <table border=\"1\" class=\"dataframe\">\n",
       "  <thead>\n",
       "    <tr style=\"text-align: right;\">\n",
       "      <th></th>\n",
       "      <th>LAT</th>\n",
       "      <th>LON</th>\n",
       "      <th>AZIMUTH</th>\n",
       "      <th>XCI</th>\n",
       "      <th>xNBID</th>\n",
       "      <th>LOCAL_CID</th>\n",
       "      <th>LAC/TAC</th>\n",
       "      <th>PCI</th>\n",
       "      <th>ARFCN</th>\n",
       "      <th>BAND</th>\n",
       "      <th>BANDWIDTH</th>\n",
       "      <th>A Point</th>\n",
       "      <th>B Point</th>\n",
       "    </tr>\n",
       "  </thead>\n",
       "  <tbody>\n",
       "    <tr>\n",
       "      <th>0</th>\n",
       "      <td>35.698181</td>\n",
       "      <td>139.773952</td>\n",
       "      <td>80</td>\n",
       "      <td>71726856</td>\n",
       "      <td>280183</td>\n",
       "      <td>8</td>\n",
       "      <td>211</td>\n",
       "      <td>251</td>\n",
       "      <td>1575</td>\n",
       "      <td>1800 B3</td>\n",
       "      <td>5000</td>\n",
       "      <td>35.69462097261708, 139.7859403258893</td>\n",
       "      <td>35.70487013844407, 139.783726223506</td>\n",
       "    </tr>\n",
       "    <tr>\n",
       "      <th>1</th>\n",
       "      <td>35.698235</td>\n",
       "      <td>139.773568</td>\n",
       "      <td>70</td>\n",
       "      <td>71726855</td>\n",
       "      <td>280183</td>\n",
       "      <td>7</td>\n",
       "      <td>211</td>\n",
       "      <td>15</td>\n",
       "      <td>1575</td>\n",
       "      <td>1800 B3</td>\n",
       "      <td>5000</td>\n",
       "      <td>35.69642717439867, 139.7861321749687</td>\n",
       "      <td>35.706206997354, 139.78176968425632</td>\n",
       "    </tr>\n",
       "    <tr>\n",
       "      <th>2</th>\n",
       "      <td>35.698445</td>\n",
       "      <td>139.772364</td>\n",
       "      <td>50</td>\n",
       "      <td>71434506</td>\n",
       "      <td>279041</td>\n",
       "      <td>10</td>\n",
       "      <td>211</td>\n",
       "      <td>123</td>\n",
       "      <td>1500</td>\n",
       "      <td>1800 B3</td>\n",
       "      <td>20000</td>\n",
       "      <td>35.70025151353197, 139.78492877489285</td>\n",
       "      <td>35.70822436425991, 139.77672813498566</td>\n",
       "    </tr>\n",
       "    <tr>\n",
       "      <th>3</th>\n",
       "      <td>35.698445</td>\n",
       "      <td>139.772364</td>\n",
       "      <td>270</td>\n",
       "      <td>71434507</td>\n",
       "      <td>279041</td>\n",
       "      <td>11</td>\n",
       "      <td>211</td>\n",
       "      <td>95</td>\n",
       "      <td>1500</td>\n",
       "      <td>1800 B3</td>\n",
       "      <td>20000</td>\n",
       "      <td>35.7036480279664, 139.76131425378574</td>\n",
       "      <td>35.693240953343846, 139.76131568944058</td>\n",
       "    </tr>\n",
       "    <tr>\n",
       "      <th>4</th>\n",
       "      <td>35.698210</td>\n",
       "      <td>139.768710</td>\n",
       "      <td>230</td>\n",
       "      <td>71403531</td>\n",
       "      <td>278920</td>\n",
       "      <td>11</td>\n",
       "      <td>211</td>\n",
       "      <td>365</td>\n",
       "      <td>1500</td>\n",
       "      <td>1800 B3</td>\n",
       "      <td>20000</td>\n",
       "      <td>35.69640217439174, 139.7561458289527</td>\n",
       "      <td>35.68843046125399, 139.76434694339318</td>\n",
       "    </tr>\n",
       "  </tbody>\n",
       "</table></div>"
      ],
      "text/plain": [
       "0        LAT         LON  AZIMUTH       XCI   xNBID LOCAL_CID LAC/TAC  PCI  \\\n",
       "0  35.698181  139.773952       80  71726856  280183         8     211  251   \n",
       "1  35.698235  139.773568       70  71726855  280183         7     211   15   \n",
       "2  35.698445  139.772364       50  71434506  279041        10     211  123   \n",
       "3  35.698445  139.772364      270  71434507  279041        11     211   95   \n",
       "4  35.698210  139.768710      230  71403531  278920        11     211  365   \n",
       "\n",
       "0 ARFCN     BAND BANDWIDTH                                A Point  \\\n",
       "0  1575  1800 B3      5000   35.69462097261708, 139.7859403258893   \n",
       "1  1575  1800 B3      5000   35.69642717439867, 139.7861321749687   \n",
       "2  1500  1800 B3     20000  35.70025151353197, 139.78492877489285   \n",
       "3  1500  1800 B3     20000   35.7036480279664, 139.76131425378574   \n",
       "4  1500  1800 B3     20000   35.69640217439174, 139.7561458289527   \n",
       "\n",
       "0                                 B Point  \n",
       "0     35.70487013844407, 139.783726223506  \n",
       "1     35.706206997354, 139.78176968425632  \n",
       "2   35.70822436425991, 139.77672813498566  \n",
       "3  35.693240953343846, 139.76131568944058  \n",
       "4   35.68843046125399, 139.76434694339318  "
      ]
     },
     "execution_count": 16,
     "metadata": {},
     "output_type": "execute_result"
    }
   ],
   "source": [
    "df.head()"
   ]
  },
  {
   "cell_type": "code",
   "execution_count": 17,
   "id": "710f60c4-0760-451e-b8ef-746a63802cb6",
   "metadata": {},
   "outputs": [],
   "source": [
    "a_set = df['A Point'].str.split(',', expand=True)\n",
    "df['A Lat'] = a_set[0].astype(np.float64)\n",
    "df['A Lon'] = a_set[1].astype(np.float64)\n",
    "\n",
    "b_set = df['B Point'].str.split(',', expand=True)\n",
    "df['B Lat'] = b_set[0].astype(np.float64)\n",
    "df['B Lon'] = b_set[1].astype(np.float64)"
   ]
  },
  {
   "cell_type": "code",
   "execution_count": 18,
   "id": "b25d3523-4ad2-4809-b0bf-779149da0ab5",
   "metadata": {},
   "outputs": [
    {
     "data": {
      "text/html": [
       "<div><div id=9dfddc77-9ff8-4469-a6da-9bb318431d38 style=\"display:none; background-color:#9D6CFF; color:white; width:200px; height:30px; padding-left:5px; border-radius:4px; flex-direction:row; justify-content:space-around; align-items:center;\" onmouseover=\"this.style.backgroundColor='#BA9BF8'\" onmouseout=\"this.style.backgroundColor='#9D6CFF'\" onclick=\"window.commands?.execute('create-mitosheet-from-dataframe-output');\">See Full Dataframe in Mito</div> <script> if (window.commands?.hasCommand('create-mitosheet-from-dataframe-output')) document.getElementById('9dfddc77-9ff8-4469-a6da-9bb318431d38').style.display = 'flex' </script> <table border=\"1\" class=\"dataframe\">\n",
       "  <thead>\n",
       "    <tr style=\"text-align: right;\">\n",
       "      <th></th>\n",
       "      <th>LAT</th>\n",
       "      <th>LON</th>\n",
       "      <th>AZIMUTH</th>\n",
       "      <th>XCI</th>\n",
       "      <th>xNBID</th>\n",
       "      <th>LOCAL_CID</th>\n",
       "      <th>LAC/TAC</th>\n",
       "      <th>PCI</th>\n",
       "      <th>ARFCN</th>\n",
       "      <th>BAND</th>\n",
       "      <th>BANDWIDTH</th>\n",
       "      <th>A Point</th>\n",
       "      <th>B Point</th>\n",
       "      <th>A Lat</th>\n",
       "      <th>A Lon</th>\n",
       "      <th>B Lat</th>\n",
       "      <th>B Lon</th>\n",
       "    </tr>\n",
       "  </thead>\n",
       "  <tbody>\n",
       "    <tr>\n",
       "      <th>0</th>\n",
       "      <td>35.698181</td>\n",
       "      <td>139.773952</td>\n",
       "      <td>80</td>\n",
       "      <td>71726856</td>\n",
       "      <td>280183</td>\n",
       "      <td>8</td>\n",
       "      <td>211</td>\n",
       "      <td>251</td>\n",
       "      <td>1575</td>\n",
       "      <td>1800 B3</td>\n",
       "      <td>5000</td>\n",
       "      <td>35.69462097261708, 139.7859403258893</td>\n",
       "      <td>35.70487013844407, 139.783726223506</td>\n",
       "      <td>35.694621</td>\n",
       "      <td>139.785940</td>\n",
       "      <td>35.704870</td>\n",
       "      <td>139.783726</td>\n",
       "    </tr>\n",
       "    <tr>\n",
       "      <th>1</th>\n",
       "      <td>35.698235</td>\n",
       "      <td>139.773568</td>\n",
       "      <td>70</td>\n",
       "      <td>71726855</td>\n",
       "      <td>280183</td>\n",
       "      <td>7</td>\n",
       "      <td>211</td>\n",
       "      <td>15</td>\n",
       "      <td>1575</td>\n",
       "      <td>1800 B3</td>\n",
       "      <td>5000</td>\n",
       "      <td>35.69642717439867, 139.7861321749687</td>\n",
       "      <td>35.706206997354, 139.78176968425632</td>\n",
       "      <td>35.696427</td>\n",
       "      <td>139.786132</td>\n",
       "      <td>35.706207</td>\n",
       "      <td>139.781770</td>\n",
       "    </tr>\n",
       "    <tr>\n",
       "      <th>2</th>\n",
       "      <td>35.698445</td>\n",
       "      <td>139.772364</td>\n",
       "      <td>50</td>\n",
       "      <td>71434506</td>\n",
       "      <td>279041</td>\n",
       "      <td>10</td>\n",
       "      <td>211</td>\n",
       "      <td>123</td>\n",
       "      <td>1500</td>\n",
       "      <td>1800 B3</td>\n",
       "      <td>20000</td>\n",
       "      <td>35.70025151353197, 139.78492877489285</td>\n",
       "      <td>35.70822436425991, 139.77672813498566</td>\n",
       "      <td>35.700252</td>\n",
       "      <td>139.784929</td>\n",
       "      <td>35.708224</td>\n",
       "      <td>139.776728</td>\n",
       "    </tr>\n",
       "    <tr>\n",
       "      <th>3</th>\n",
       "      <td>35.698445</td>\n",
       "      <td>139.772364</td>\n",
       "      <td>270</td>\n",
       "      <td>71434507</td>\n",
       "      <td>279041</td>\n",
       "      <td>11</td>\n",
       "      <td>211</td>\n",
       "      <td>95</td>\n",
       "      <td>1500</td>\n",
       "      <td>1800 B3</td>\n",
       "      <td>20000</td>\n",
       "      <td>35.7036480279664, 139.76131425378574</td>\n",
       "      <td>35.693240953343846, 139.76131568944058</td>\n",
       "      <td>35.703648</td>\n",
       "      <td>139.761314</td>\n",
       "      <td>35.693241</td>\n",
       "      <td>139.761316</td>\n",
       "    </tr>\n",
       "    <tr>\n",
       "      <th>4</th>\n",
       "      <td>35.698210</td>\n",
       "      <td>139.768710</td>\n",
       "      <td>230</td>\n",
       "      <td>71403531</td>\n",
       "      <td>278920</td>\n",
       "      <td>11</td>\n",
       "      <td>211</td>\n",
       "      <td>365</td>\n",
       "      <td>1500</td>\n",
       "      <td>1800 B3</td>\n",
       "      <td>20000</td>\n",
       "      <td>35.69640217439174, 139.7561458289527</td>\n",
       "      <td>35.68843046125399, 139.76434694339318</td>\n",
       "      <td>35.696402</td>\n",
       "      <td>139.756146</td>\n",
       "      <td>35.688430</td>\n",
       "      <td>139.764347</td>\n",
       "    </tr>\n",
       "  </tbody>\n",
       "</table></div>"
      ],
      "text/plain": [
       "0        LAT         LON  AZIMUTH       XCI   xNBID LOCAL_CID LAC/TAC  PCI  \\\n",
       "0  35.698181  139.773952       80  71726856  280183         8     211  251   \n",
       "1  35.698235  139.773568       70  71726855  280183         7     211   15   \n",
       "2  35.698445  139.772364       50  71434506  279041        10     211  123   \n",
       "3  35.698445  139.772364      270  71434507  279041        11     211   95   \n",
       "4  35.698210  139.768710      230  71403531  278920        11     211  365   \n",
       "\n",
       "0 ARFCN     BAND BANDWIDTH                                A Point  \\\n",
       "0  1575  1800 B3      5000   35.69462097261708, 139.7859403258893   \n",
       "1  1575  1800 B3      5000   35.69642717439867, 139.7861321749687   \n",
       "2  1500  1800 B3     20000  35.70025151353197, 139.78492877489285   \n",
       "3  1500  1800 B3     20000   35.7036480279664, 139.76131425378574   \n",
       "4  1500  1800 B3     20000   35.69640217439174, 139.7561458289527   \n",
       "\n",
       "0                                 B Point      A Lat       A Lon      B Lat  \\\n",
       "0     35.70487013844407, 139.783726223506  35.694621  139.785940  35.704870   \n",
       "1     35.706206997354, 139.78176968425632  35.696427  139.786132  35.706207   \n",
       "2   35.70822436425991, 139.77672813498566  35.700252  139.784929  35.708224   \n",
       "3  35.693240953343846, 139.76131568944058  35.703648  139.761314  35.693241   \n",
       "4   35.68843046125399, 139.76434694339318  35.696402  139.756146  35.688430   \n",
       "\n",
       "0       B Lon  \n",
       "0  139.783726  \n",
       "1  139.781770  \n",
       "2  139.776728  \n",
       "3  139.761316  \n",
       "4  139.764347  "
      ]
     },
     "execution_count": 18,
     "metadata": {},
     "output_type": "execute_result"
    }
   ],
   "source": [
    "df.head()"
   ]
  },
  {
   "cell_type": "code",
   "execution_count": 19,
   "id": "6d65b5cb-5184-4672-8afc-a133845c2321",
   "metadata": {},
   "outputs": [],
   "source": [
    "df['S Coord'] = list(zip(df['LON'], df['LAT']))\n",
    "df['A Coord'] = list(zip(df['A Lon'], df['A Lat']))\n",
    "df['B Coord'] = list(zip(df['B Lon'], df['B Lat']))\n",
    "\n",
    "df['Coordinates'] = list(zip(df['S Coord'], df['A Coord'], df['B Coord']))"
   ]
  },
  {
   "cell_type": "code",
   "execution_count": 20,
   "id": "a96f9562-010d-415d-b9a3-1d3d284ab49e",
   "metadata": {},
   "outputs": [],
   "source": [
    "df['Coord_Polygon'] = df['Coordinates'].apply(Polygon)"
   ]
  },
  {
   "cell_type": "code",
   "execution_count": 21,
   "id": "64433254-748a-441e-8fba-e13c8c96b3ed",
   "metadata": {},
   "outputs": [
    {
     "data": {
      "text/plain": [
       "0    POLYGON ((139.773952 35.698181, 139.7859403258...\n",
       "1    POLYGON ((139.773568 35.698235, 139.7861321749...\n",
       "2    POLYGON ((139.772364 35.698445, 139.7849287748...\n",
       "3    POLYGON ((139.772364 35.698445, 139.7613142537...\n",
       "4    POLYGON ((139.76871 35.69821, 139.756145828952...\n",
       "Name: Coord_Polygon, dtype: object"
      ]
     },
     "execution_count": 21,
     "metadata": {},
     "output_type": "execute_result"
    }
   ],
   "source": [
    "df['Coord_Polygon'].head()"
   ]
  },
  {
   "cell_type": "code",
   "execution_count": 22,
   "id": "6caccecb-ce2d-426c-81fe-c2b74e7b124c",
   "metadata": {},
   "outputs": [],
   "source": [
    "gdf = gpd.GeoDataFrame(df, geometry = df['Coord_Polygon'])"
   ]
  },
  {
   "cell_type": "code",
   "execution_count": 23,
   "id": "6e135ccc-5b7c-4333-a770-f56ef182208b",
   "metadata": {},
   "outputs": [
    {
     "data": {
      "text/plain": [
       "Index(['LAT', 'LON', 'AZIMUTH', 'XCI', 'xNBID', 'LOCAL_CID', 'LAC/TAC', 'PCI',\n",
       "       'ARFCN', 'BAND', 'BANDWIDTH', 'A Point', 'B Point', 'A Lat', 'A Lon',\n",
       "       'B Lat', 'B Lon', 'S Coord', 'A Coord', 'B Coord', 'Coordinates',\n",
       "       'Coord_Polygon', 'geometry'],\n",
       "      dtype='object', name=0)"
      ]
     },
     "execution_count": 23,
     "metadata": {},
     "output_type": "execute_result"
    }
   ],
   "source": [
    "gdf.columns"
   ]
  },
  {
   "cell_type": "code",
   "execution_count": 24,
   "id": "77b59041-1c42-4958-8a6a-f6ce75cfa582",
   "metadata": {},
   "outputs": [],
   "source": [
    "gdf.drop(['A Point', 'B Point', 'S Coord', 'A Coord', 'B Coord', 'Coordinates',\n",
    "       'Coord_Polygon'], axis=1, inplace=True)"
   ]
  },
  {
   "cell_type": "code",
   "execution_count": 25,
   "id": "87ce6e39-8317-43b1-bc9a-1f8d37d96dda",
   "metadata": {},
   "outputs": [
    {
     "data": {
      "text/plain": [
       "Index(['LAT', 'LON', 'AZIMUTH', 'XCI', 'xNBID', 'LOCAL_CID', 'LAC/TAC', 'PCI',\n",
       "       'ARFCN', 'BAND', 'BANDWIDTH', 'A Lat', 'A Lon', 'B Lat', 'B Lon',\n",
       "       'geometry'],\n",
       "      dtype='object', name=0)"
      ]
     },
     "execution_count": 25,
     "metadata": {},
     "output_type": "execute_result"
    }
   ],
   "source": [
    "gdf.columns"
   ]
  },
  {
   "cell_type": "code",
   "execution_count": 26,
   "id": "03b0740f-c9a7-4695-9622-2d9c942825c5",
   "metadata": {},
   "outputs": [],
   "source": [
    "gdf = gdf[['XCI', 'xNBID', 'LOCAL_CID', 'LAC/TAC', 'PCI', 'ARFCN', 'BAND', 'BANDWIDTH', 'AZIMUTH', \n",
    "           'LAT', 'LON', 'A Lat', 'A Lon', 'B Lat', 'B Lon', 'geometry']]"
   ]
  },
  {
   "cell_type": "code",
   "execution_count": 27,
   "id": "1f01dfcf-d02e-47fb-80fa-ea571a0c3dd1",
   "metadata": {},
   "outputs": [],
   "source": [
    "fiona.supported_drivers['KML'] = 'rw'\n",
    "fiona.drvsupport.supported_drivers['KML'] = 'rw'\n",
    "fiona.drvsupport.supported_drivers['libkml'] = 'rw' # enable KML support which is disabled by default\n",
    "fiona.drvsupport.supported_drivers['LIBKML'] = 'rw' # enable KML support which is disabled "
   ]
  },
  {
   "cell_type": "code",
   "execution_count": 28,
   "id": "f5c3114e-3374-4bfa-a219-e401ef249764",
   "metadata": {},
   "outputs": [
    {
     "name": "stdout",
     "output_type": "stream",
     "text": [
      "True\n"
     ]
    }
   ],
   "source": [
    "# Checks if GeoPandas can read MapInfo files\n",
    "print('MapInfo File' in fiona.supported_drivers)"
   ]
  },
  {
   "cell_type": "code",
   "execution_count": 29,
   "id": "e322abf1-c692-4b8f-be41-836bfcbaec5b",
   "metadata": {},
   "outputs": [],
   "source": [
    "#gdf.to_file('../a.kml', driver='KML')"
   ]
  }
 ],
 "metadata": {
  "kernelspec": {
   "display_name": "Python 3 (ipykernel)",
   "language": "python",
   "name": "python3"
  },
  "language_info": {
   "codemirror_mode": {
    "name": "ipython",
    "version": 3
   },
   "file_extension": ".py",
   "mimetype": "text/x-python",
   "name": "python",
   "nbconvert_exporter": "python",
   "pygments_lexer": "ipython3",
   "version": "3.9.7"
  }
 },
 "nbformat": 4,
 "nbformat_minor": 5
}
